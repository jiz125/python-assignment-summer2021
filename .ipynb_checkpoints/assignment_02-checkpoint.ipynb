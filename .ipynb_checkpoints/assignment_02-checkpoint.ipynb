{
 "cells": [
  {
   "cell_type": "code",
   "execution_count": 1,
   "metadata": {},
   "outputs": [],
   "source": [
    "def printPoem (): \n",
    "    print('I have eaten')\n",
    "    print('the plums')\n",
    "    print('that were in')\n",
    "    print('the icebox')\n",
    "    print('\\n')\n",
    "    print('and which')\n",
    "    print('you were probably')\n",
    "    print('saving')\n",
    "    print('for breakfast')\n",
    "    print('\\n')\n",
    "    print('Forgive me')\n",
    "    print('they were delicious')\n",
    "    print('so sweet')\n",
    "    print('and so cold')"
   ]
  },
  {
   "cell_type": "code",
   "execution_count": 3,
   "metadata": {},
   "outputs": [
    {
     "name": "stdout",
     "output_type": "stream",
     "text": [
      "I have eaten\n",
      "the plums\n",
      "that were in\n",
      "the icebox\n",
      "\n",
      "\n",
      "and which\n",
      "you were probably\n",
      "saving\n",
      "for breakfast\n",
      "\n",
      "\n",
      "Forgive me\n",
      "they were delicious\n",
      "so sweet\n",
      "and so cold\n"
     ]
    }
   ],
   "source": [
    "printPoem()"
   ]
  },
  {
   "cell_type": "code",
   "execution_count": null,
   "metadata": {},
   "outputs": [],
   "source": []
  }
 ],
 "metadata": {
  "kernelspec": {
   "display_name": "Python 3",
   "language": "python",
   "name": "python3"
  },
  "language_info": {
   "codemirror_mode": {
    "name": "ipython",
    "version": 3
   },
   "file_extension": ".py",
   "mimetype": "text/x-python",
   "name": "python",
   "nbconvert_exporter": "python",
   "pygments_lexer": "ipython3",
   "version": "3.8.5"
  }
 },
 "nbformat": 4,
 "nbformat_minor": 4
}
