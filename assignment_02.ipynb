{
 "cells": [
  {
   "cell_type": "code",
   "execution_count": 1,
   "metadata": {},
   "outputs": [],
   "source": [
    "#Poem\n",
    "\n",
    "a = \"Stray Bird\"\n",
    "b = \"by Rabindranath Tagore | 1916\"\n",
    "\n",
    "print (f'{a}')\n",
    "print('\\n')\n",
    "print(b.upper())\n",
    "print('\\n')\n",
    "print('Stray birds of summer come to my window to sing and fly away. And yellow leaves of autumn, which have no songs, flutter and fall there with a sigh')\n",
    "print('\\n')\n",
    "print('O troupe of little vagrants of the world, leave your footprints in my words.')\n",
    "print('\\n')\n",
    "print(\"The world puts off its mask of vastness to its lover.\")\n",
    "print(\"It becomes small as one song, as one kiss of the eternal.\")\n",
    "print('\\n')\n",
    "print(\"It is the tears of the earth that keep her smiles in bloom.\")\n",
    "print('\\n')"
   ]
  },
  {
   "cell_type": "code",
   "execution_count": 10,
   "metadata": {},
   "outputs": [],
   "source": [
    "def one():\n",
    "    print('1')  "
   ]
  },
  {
   "cell_type": "code",
   "execution_count": 11,
   "metadata": {},
   "outputs": [],
   "source": [
    "def straybirds(name):\n",
    "    print('Stray bird ' +name + ' come to my window')"
   ]
  },
  {
   "cell_type": "code",
   "execution_count": 12,
   "metadata": {},
   "outputs": [
    {
     "name": "stdout",
     "output_type": "stream",
     "text": [
      "Stray bird of summer come to my window\n"
     ]
    }
   ],
   "source": [
    "straybirds('of summer')"
   ]
  },
  {
   "cell_type": "code",
   "execution_count": 13,
   "metadata": {},
   "outputs": [],
   "source": [
    "cometomywindow = ['to sing','and fly away.',]"
   ]
  },
  {
   "cell_type": "code",
   "execution_count": 14,
   "metadata": {},
   "outputs": [
    {
     "data": {
      "text/plain": [
       "['to sing', 'and fly away.']"
      ]
     },
     "execution_count": 14,
     "metadata": {},
     "output_type": "execute_result"
    }
   ],
   "source": [
    "cometomywindow"
   ]
  },
  {
   "cell_type": "code",
   "execution_count": 15,
   "metadata": {},
   "outputs": [],
   "source": [
    "def Andyellowleavesofautumn(name):\n",
    "    print(name + ' have no songs,' )"
   ]
  },
  {
   "cell_type": "code",
   "execution_count": 16,
   "metadata": {},
   "outputs": [
    {
     "name": "stdout",
     "output_type": "stream",
     "text": [
      "which have no songs,\n"
     ]
    }
   ],
   "source": [
    "Andyellowleavesofautumn('which')"
   ]
  },
  {
   "cell_type": "code",
   "execution_count": 20,
   "metadata": {},
   "outputs": [
    {
     "name": "stdout",
     "output_type": "stream",
     "text": [
      "1\n",
      "Stray bird of summer come to my window\n",
      "and yellow leaves of autumn\n",
      "which have no songs,\n"
     ]
    }
   ],
   "source": [
    "one()\n",
    "straybirds('of summer')\n",
    "cometomywindow\n",
    "print('and yellow leaves of autumn')\n",
    "Andyellowleavesofautumn('which')"
   ]
  },
  {
   "cell_type": "code",
   "execution_count": null,
   "metadata": {},
   "outputs": [],
   "source": []
  }
 ],
 "metadata": {
  "kernelspec": {
   "display_name": "Python 3",
   "language": "python",
   "name": "python3"
  },
  "language_info": {
   "codemirror_mode": {
    "name": "ipython",
    "version": 3
   },
   "file_extension": ".py",
   "mimetype": "text/x-python",
   "name": "python",
   "nbconvert_exporter": "python",
   "pygments_lexer": "ipython3",
   "version": "3.8.5"
  }
 },
 "nbformat": 4,
 "nbformat_minor": 4
}
