{
 "cells": [
  {
   "cell_type": "code",
   "execution_count": 118,
   "metadata": {},
   "outputs": [
    {
     "name": "stdout",
     "output_type": "stream",
     "text": [
      "Stray Bird\n",
      "\n",
      "\n",
      "BY RABINDRANATH TAGORE | 1916\n",
      "\n",
      "\n",
      "Stray birds of summer come to my window to sing and fly away. And yellow leaves of autumn, which have no songs, flutter and fall there with a sigh\n",
      "\n",
      "\n",
      "O troupe of little vagrants of the world, leave your footprints in my words.\n",
      "\n",
      "\n",
      "The world puts off its mask of vastness to its lover.\n",
      "It becomes small as one song, as one kiss of the eternal.\n",
      "\n",
      "\n",
      "It is the tears of the earth that keep her smiles in bloom.\n",
      "\n",
      "\n"
     ]
    }
   ],
   "source": [
    "#Poem\n",
    "\n",
    "a = \"Stray Bird\"\n",
    "b = \"by Rabindranath Tagore | 1916\"\n",
    "\n",
    "print (f'{a}')\n",
    "print('\\n')\n",
    "print(b.upper())\n",
    "print('\\n')\n",
    "print('Stray birds of summer come to my window to sing and fly away. And yellow leaves of autumn, which have no songs, flutter and fall there with a sigh')\n",
    "print('\\n')\n",
    "print('O troupe of little vagrants of the world, leave your footprints in my words.')\n",
    "print('\\n')\n",
    "print(\"The world puts off its mask of vastness to its lover.\")\n",
    "print(\"It becomes small as one song, as one kiss of the eternal.\")\n",
    "print('\\n')\n",
    "print(\"It is the tears of the earth that keep her smiles in bloom.\")\n",
    "print('\\n')"
   ]
  },
  {
   "cell_type": "code",
   "execution_count": 119,
   "metadata": {},
   "outputs": [],
   "source": [
    "def one():\n",
    "    print('1')  "
   ]
  },
  {
   "cell_type": "code",
   "execution_count": 120,
   "metadata": {},
   "outputs": [],
   "source": [
    "def straybirds(name):\n",
    "    print('Stray bird ' +name + ' come to my window')"
   ]
  },
  {
   "cell_type": "code",
   "execution_count": 121,
   "metadata": {},
   "outputs": [
    {
     "name": "stdout",
     "output_type": "stream",
     "text": [
      "Stray bird of summer come to my window\n"
     ]
    }
   ],
   "source": [
    "straybirds('of summer')"
   ]
  },
  {
   "cell_type": "code",
   "execution_count": 122,
   "metadata": {},
   "outputs": [],
   "source": [
    "cometomywindow = ['to sing','and fly away.',]"
   ]
  },
  {
   "cell_type": "code",
   "execution_count": 123,
   "metadata": {},
   "outputs": [
    {
     "data": {
      "text/plain": [
       "['to sing', 'and fly away.']"
      ]
     },
     "execution_count": 123,
     "metadata": {},
     "output_type": "execute_result"
    }
   ],
   "source": [
    "cometomywindow"
   ]
  },
  {
   "cell_type": "code",
   "execution_count": 124,
   "metadata": {},
   "outputs": [],
   "source": [
    "def Andyellowleavesofautumn(name):\n",
    "    print(name + ' have no songs,' )"
   ]
  },
  {
   "cell_type": "code",
   "execution_count": 125,
   "metadata": {},
   "outputs": [
    {
     "name": "stdout",
     "output_type": "stream",
     "text": [
      "which have no songs,\n"
     ]
    }
   ],
   "source": [
    "Andyellowleavesofautumn('which')"
   ]
  },
  {
   "cell_type": "code",
   "execution_count": 126,
   "metadata": {},
   "outputs": [
    {
     "name": "stdout",
     "output_type": "stream",
     "text": [
      "{'stray_birds': 'of summer', 'come_to': 'my window', 'to': ['sing', 'and fly away'], 'And_yellow_leaves': 'of autumn', 'which': 'have no songs'}\n"
     ]
    }
   ],
   "source": [
    "# json \n",
    "Stray_birds1 = {\n",
    "    'stray_birds': 'of summer',\n",
    "    'come_to': 'my window',\n",
    "    'to': ['sing','and fly away'],\n",
    "    'And_yellow_leaves': 'of autumn',\n",
    "    'which':'have no songs'\n",
    "}\n",
    "print(Stray_birds1)"
   ]
  },
  {
   "cell_type": "code",
   "execution_count": 127,
   "metadata": {},
   "outputs": [],
   "source": [
    "def two():\n",
    "    print('2')\n",
    "    "
   ]
  },
  {
   "cell_type": "code",
   "execution_count": 128,
   "metadata": {},
   "outputs": [
    {
     "name": "stdout",
     "output_type": "stream",
     "text": [
      "2\n"
     ]
    }
   ],
   "source": [
    "two()"
   ]
  },
  {
   "cell_type": "code",
   "execution_count": 129,
   "metadata": {},
   "outputs": [],
   "source": [
    "#json2\n",
    "Stary_birds2 = {\n",
    "    'OO TROUPE': 1,\n",
    "    'of little': 2,\n",
    "    'of the world': 3,\n",
    "    'leave your footprint': 4,\n",
    "    'in my words': 5,\n",
    "}"
   ]
  },
  {
   "cell_type": "code",
   "execution_count": 130,
   "metadata": {},
   "outputs": [
    {
     "name": "stdout",
     "output_type": "stream",
     "text": [
      "True\n"
     ]
    }
   ],
   "source": [
    "print('OO TROUPE' in Stary_birds2)"
   ]
  },
  {
   "cell_type": "code",
   "execution_count": 131,
   "metadata": {},
   "outputs": [
    {
     "name": "stdout",
     "output_type": "stream",
     "text": [
      "OO TROUPE\n",
      "of little\n",
      "of the world\n",
      "leave your footprint\n",
      "in my words\n"
     ]
    }
   ],
   "source": [
    "for a in Stary_birds2:\n",
    "    print(a)"
   ]
  },
  {
   "cell_type": "code",
   "execution_count": 132,
   "metadata": {},
   "outputs": [
    {
     "name": "stdout",
     "output_type": "stream",
     "text": [
      "|The world puts off its mask of vastness to its lover.|\n",
      "It becomes small as one song......\n",
      "as one KISSSSSSSS of the eternal.\n"
     ]
    }
   ],
   "source": [
    "Stray_birds3 = \"The world puts off its mask of vastness to its lover.\"\n",
    "Stray_birds31 = \"....It becomes small as one song......\"\n",
    "Stray_birds32 = \"as one kiss of the eternal.\"\n",
    "print(\"|\" + Stray_birds3.strip() + \"|\")\n",
    "print(Stray_birds31.lstrip(\".w\"))\n",
    "print(Stray_birds32.replace('kiss','KISSSSSSSS'))"
   ]
  },
  {
   "cell_type": "code",
   "execution_count": 133,
   "metadata": {},
   "outputs": [],
   "source": [
    "def four():\n",
    "    print('4')"
   ]
  },
  {
   "cell_type": "code",
   "execution_count": 134,
   "metadata": {},
   "outputs": [
    {
     "name": "stdout",
     "output_type": "stream",
     "text": [
      "['It is', 'the', 'tears of', 'earth', 'that', 'keep her smiles', 'in bloom']\n"
     ]
    }
   ],
   "source": [
    "Stray_birds4 = ['It is', 'the','tears of','earth','that','keep her smiles','in bloom']\n",
    "print(Stray_birds4 [0:])"
   ]
  },
  {
   "cell_type": "code",
   "execution_count": 135,
   "metadata": {},
   "outputs": [],
   "source": [
    "def three():\n",
    "    print('3')"
   ]
  },
  {
   "cell_type": "code",
   "execution_count": 142,
   "metadata": {},
   "outputs": [
    {
     "name": "stdout",
     "output_type": "stream",
     "text": [
      "True\n"
     ]
    }
   ],
   "source": [
    "author = \"RabindranathTagore\"\n",
    "print(author.isalpha())"
   ]
  },
  {
   "cell_type": "code",
   "execution_count": 146,
   "metadata": {},
   "outputs": [
    {
     "name": "stdout",
     "output_type": "stream",
     "text": [
      "1\n",
      "{'stray_birds': 'of summer', 'come_to': 'my window', 'to': ['sing', 'and fly away'], 'And_yellow_leaves': 'of autumn', 'which': 'have no songs'}\n",
      "\n",
      "\n",
      "2\n",
      "OO TROUPE\n",
      "of little\n",
      "of the world\n",
      "leave your footprint\n",
      "in my words\n",
      "\n",
      "\n",
      "3\n",
      "|The world puts off its mask of vastness to its lover.|\n",
      "It becomes small as one song......\n",
      "as one KISSSSSSSS of the eternal.\n",
      "\n",
      "\n",
      "4\n",
      "['It is', 'the', 'tears of', 'earth', 'that', 'keep her smiles', 'in bloom']\n",
      "\n",
      "\n",
      "----------\n",
      "by Rabindranath Tagore\n",
      "True\n"
     ]
    }
   ],
   "source": [
    "one()\n",
    "print(Stray_birds1)\n",
    "print('\\n')\n",
    "\n",
    "two()\n",
    "for a in Stary_birds2:\n",
    "    print(a)\n",
    "print('\\n')\n",
    "\n",
    "three()\n",
    "print(\"|\" + Stray_birds3.strip() + \"|\")\n",
    "print(Stray_birds31.lstrip(\".w\"))\n",
    "print(Stray_birds32.replace('kiss','KISSSSSSSS'))\n",
    "print('\\n')\n",
    "\n",
    "four()\n",
    "print(Stray_birds4 [0:])\n",
    "\n",
    "print('\\n')\n",
    "print('----------')\n",
    "print('by Rabindranath Tagore')\n",
    "print(author.isalpha())"
   ]
  },
  {
   "cell_type": "code",
   "execution_count": null,
   "metadata": {},
   "outputs": [],
   "source": []
  }
 ],
 "metadata": {
  "kernelspec": {
   "display_name": "Python 3",
   "language": "python",
   "name": "python3"
  },
  "language_info": {
   "codemirror_mode": {
    "name": "ipython",
    "version": 3
   },
   "file_extension": ".py",
   "mimetype": "text/x-python",
   "name": "python",
   "nbconvert_exporter": "python",
   "pygments_lexer": "ipython3",
   "version": "3.8.5"
  }
 },
 "nbformat": 4,
 "nbformat_minor": 4
}
